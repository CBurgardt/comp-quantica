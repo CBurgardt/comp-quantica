{
 "cells": [
  {
   "cell_type": "markdown",
   "metadata": {},
   "source": [
    "# Computação quântica\n",
    "## Conceitos básicos \n",
    "\n",
    "- bits quânticos (qbit)\n",
    "- operadores sobre um qbit\n",
    "- Medição\n",
    "- Simulação utilizando qiskit\n",
    "- Execução em um processador quântico\n"
   ]
  },
  {
   "cell_type": "markdown",
   "metadata": {},
   "source": [
    "## Introdução\n",
    "A matéria em escala subatômica apresenta um comportamento diferente do descrito na física clássica. A computação quântica utiliza propriedades inerentes a matéria em escala subatômica para realizar processamento da informação. Os únicos pré-requisitos deste curso são álgebra linear, algoritmos e estruturas de dados. \n",
    "\n",
    "A computação clássica processa bits que podem estar no \"estado\" 0 ou 1. Por outro lado a computação quântica processa bits quânticos ou **qbits** podem estar em um número contínuo de possibilidades. Utilizando a computação quântica é possível fatorar um número em tempo polinomial e realizar uma busca em um conjunto desordenado com custo $O(\\sqrt{n})$.\n",
    "\n",
    "O principal objetivo deste curso é apresentar os conceitos da computação quântica, os principais algoritmos e métodos de programação para processadores quânticos de pequena escala.\n",
    "\n",
    "Diversas empresas, universidades e países estão realizando investimentos para a construção de um computador quântico. Apesar dos resultados teóricos, até a data desta aula ainda não existe uma aplicação prática de computadores quânticos que não possa ser realizada por computadores clássicos."
   ]
  },
  {
   "cell_type": "markdown",
   "metadata": {
    "collapsed": true
   },
   "source": [
    "## Bits quânticos\n",
    "Na literatura de computação quântica a notação de dirac $|\\cdot \\rangle$ é utilizada para representar vetores. Por exemplo,\n",
    "\n",
    "$$|0\\rangle = \\begin{bmatrix}1 \\\\ 0\\end{bmatrix} \\mbox{ e } |1\\rangle = \\begin{bmatrix}0 \\\\ 1\\end{bmatrix}.$$\n",
    "\n",
    "Enquanto os bits podem estar em apenas dois possíveis estados, os bits quânticos podem estar em uma superposição de estados (em uma combinação linear de $|0\\rangle$ e $|1\\rangle$) $$|\\psi\\rangle = \\alpha|0\\rangle + \\beta|1\\rangle,$$.\n",
    "\n",
    "onde $\\alpha$ e $\\beta$ são denominados amplitudes de probabilidade e $|\\alpha|^2+|\\beta|^2 = 1$\n"
   ]
  },
  {
   "cell_type": "markdown",
   "metadata": {
    "collapsed": true
   },
   "source": [
    "## Medição projetiva\n",
    "\n",
    "Os valores das amplitudes de probabilidade de um qbit não podem ser recuperados. A única informação que obtemos ao observar um qbit $|\\psi\\rangle = \\alpha|0\\rangle + \\beta|1\\rangle$ é 0 com probabilidade $|\\alpha|^2$ e 1 com probabilidade $|\\beta|^2$. Após a medição o estado do qbit colapsa e sucessivas medições retornarão o mesmo resultado.\n",
    "\n",
    "Por exemplo, considere o qbit $|\\psi\\rangle = \\frac{1}{\\sqrt{3}}|0\\rangle + \\sqrt{\\frac{2}{3}}|1\\rangle$. Ao realizar uma medição será obtido 0 com probabilidade $\\frac{1}{3}$ e neste caso o qbit irá colapsar para o estado $|\\psi\\rangle =|0\\rangle$ ou 1 com probabilidade $\\frac{2}{3}$ e neste caso o qbit irá colapsar para o estado $|\\psi\\rangle =|1\\rangle$."
   ]
  },
  {
   "cell_type": "markdown",
   "metadata": {},
   "source": [
    "## Operadores quânticos sobre um qbit\n",
    "Na base computacional (ou base canônica) $\\{|0\\rangle, |1\\rangle\\}$, um operador quântico sobre um qbit pode ser representado por uma matriz unitária $2 \\times 2$. Dizemos que uma matriz $U$ é unitária se ao ser multiplicada por sua transposta conjugada $U^\\dagger$ obtiver a matriz identidade como resultado $UU^\\dagger = I$. Toda matriz unitária $2 \\times 2$ representa um operador quântico válido.\n",
    "\n",
    "Alguns exemplos de operadores quânticos $I$, $H$, $X$, $Z$, \n",
    "\n",
    "$$I = \\begin{bmatrix}\n",
    "1 & 0 \\\\\n",
    "0 & 1\n",
    "\\end{bmatrix}\\mbox{, } \n",
    "%\n",
    "X = \\begin{bmatrix}\n",
    "0 & 1 \\\\\n",
    "1 & 0\n",
    "\\end{bmatrix}\\mbox{, }\n",
    "%\n",
    "H = \\frac{1}{\\sqrt{2}}\\begin{bmatrix}\n",
    "1 & 1 \\\\\n",
    "1 & -1\n",
    "\\end{bmatrix}\\mbox{ e }\n",
    "Z = \\frac{1}{\\sqrt{2}}\\begin{bmatrix}\n",
    "1 & 0 \\\\\n",
    "0 & -1\n",
    "\\end{bmatrix}$$\n",
    "\n",
    "Toda matriz $2 \\times 2$ unitária representa um operador quântico válido. No entanto, os processadores quânticos disponíveis possuem um conjunto finito de funções para representar operadores quânticos. Por exemplo, no computador ibmqx4 o conjunto de operadores sobre um qbit são\n",
    "\n",
    "$$u3(\\theta, \\phi, \\lambda) = \n",
    "\\begin{bmatrix} \n",
    "    cos(\\theta/2) & -e^{i\\lambda}sen(\\theta/2) \\\\\n",
    "    e^{i\\phi}sen(\\theta/2) & e^{i(\\lambda+\\phi)}cos(\\theta/2)\n",
    "\\end{bmatrix}\\mbox{, } \n",
    "u2(\\phi, \\lambda)=\n",
    "\\begin{bmatrix}\n",
    "1 & -e^{i\\lambda}\\\\\n",
    "e^{i\\phi} & e^{i\\phi + i\\lambda}\n",
    "\\end{bmatrix}, \n",
    "u1(\\lambda)=\n",
    "\\begin{bmatrix}\n",
    "1 & 0\\\\\n",
    "0 & e^{i\\lambda}\n",
    "\\end{bmatrix}\n",
    "$$"
   ]
  },
  {
   "cell_type": "markdown",
   "metadata": {},
   "source": [
    "## Simulação utilizando o numpy\n",
    "\n",
    "Podemos pensar em um bit quântico como uma classe com um atributo privado vetor. O vetor é inicializado em $|0\\rangle$ e só pode ser modificado pela ação de operadores quânticos e medições."
   ]
  },
  {
   "cell_type": "code",
   "execution_count": 1,
   "metadata": {},
   "outputs": [],
   "source": [
    "import numpy as np\n",
    "import random\n",
    "class qbit:\n",
    "    def __init__(self):\n",
    "        self._vector = np.matrix([[1],[0]]) # _ indica aproximadamente variável protegida\n",
    "    def measure(self):\n",
    "        a = random.random()\n",
    "        if a < self._vector[0]**2:\n",
    "            self._vector = np.matrix([[1],[0]])\n",
    "            return 0\n",
    "        else:\n",
    "            self._vector = np.matrix([[0],[1]])\n",
    "            return 1\n",
    "    def __str__(self):\n",
    "        return str(self._vector[0]) + '|0>' + ' + ' + str(self._vector[1]) + '|1>'\n",
    "    \n",
    "class qop:\n",
    "    def __init__(self, matrix):\n",
    "        self.matrix = np.matrix(matrix)\n",
    "    def __mul__(self, qbit):\n",
    "        qbit._vector = self.matrix * qbit._vector\n",
    "    \n",
    "    def __str__(self):\n",
    "        return str(self.matrix)"
   ]
  },
  {
   "cell_type": "code",
   "execution_count": 15,
   "metadata": {},
   "outputs": [],
   "source": [
    "# inicializa um qbit\n",
    "psi = qbit() # todos qbits s\n",
    "\n",
    "# inicializa um operador quântico\n",
    "a = (1/np.sqrt(2)) * np.matrix([[1, 1],[1, -1]])\n",
    "H = qop(a)\n",
    "\n",
    "#Aplica o operador ao bit quântico\n",
    "H * psi"
   ]
  },
  {
   "cell_type": "code",
   "execution_count": 16,
   "metadata": {},
   "outputs": [
    {
     "name": "stdout",
     "output_type": "stream",
     "text": [
      "[[0.70710678]]|0> + [[0.70710678]]|1>\n"
     ]
    }
   ],
   "source": [
    "print(psi) # esta operação não é possível em qbit real"
   ]
  },
  {
   "cell_type": "code",
   "execution_count": 17,
   "metadata": {},
   "outputs": [
    {
     "data": {
      "text/plain": [
       "0"
      ]
     },
     "execution_count": 17,
     "metadata": {},
     "output_type": "execute_result"
    }
   ],
   "source": [
    "# Medição do qbit\n",
    "psi.measure()"
   ]
  },
  {
   "cell_type": "code",
   "execution_count": 18,
   "metadata": {},
   "outputs": [
    {
     "name": "stdout",
     "output_type": "stream",
     "text": [
      "[[1]]|0> + [[0]]|1>\n"
     ]
    }
   ],
   "source": [
    "# Estado após a medição\n",
    "print(psi) # esta operação não é possível em qbit real"
   ]
  },
  {
   "cell_type": "markdown",
   "metadata": {},
   "source": [
    "## Qiskit\n",
    "O [qiskit](https://qiskit.org) fornece ferramentas para a programação de computadores quânticos na linguagem de programação python. Para inicializar um qbit utilizamos a função ```QuantumRegister```, para inicializar um bit clássico utilizamos a função ```ClassicalRegister``` e é necessário construir um circuito quântico com a classe `python QuantumCircuit` para realizar operações sobre os qbits. Estes são os objetos básicos para programar um sistema quântico.\n",
    "\n",
    "```python \n",
    "QuantumRegister(size, name=None) \n",
    "# implementa um registrador quântico como um array de qbits\n",
    "\n",
    "ClassicalRegister(size, name=None) \n",
    "# implementa um registrador clássico como um array de qbits, size inteiro, name string\n",
    "\n",
    "QuantumCircuit(*regs, name=None) \n",
    "# Cria um circuito quântico. *regs lista de ClassicalRegisters e Quantum registers e name string\n",
    "```\n",
    "\n",
    "No código abaixo um registrador quântico `q`, um registrador clássico `c` e um circuito quântico `circuit` contendo `q` e `c` são criados. Em seguida o operador Hadammard `circuit.h(q)` é aplicado no registrador `q` e uma medição do registrador `q` é realizada e seu resultado é armazenado no registrador `c`."
   ]
  },
  {
   "cell_type": "code",
   "execution_count": 6,
   "metadata": {},
   "outputs": [
    {
     "data": {
      "text/plain": [
       "<qiskit.circuit.instructionset.InstructionSet at 0x10debba90>"
      ]
     },
     "execution_count": 6,
     "metadata": {},
     "output_type": "execute_result"
    }
   ],
   "source": [
    "# importar módulos\n",
    "import numpy as np\n",
    "import qiskit\n",
    "\n",
    "q = qiskit.QuantumRegister(1, 'q')\n",
    "c = qiskit.ClassicalRegister(1, 'c')\n",
    "circuit = qiskit.QuantumCircuit(q, c)\n",
    "circuit.h(q)\n",
    "circuit.measure(q, c)\n",
    "\n"
   ]
  },
  {
   "cell_type": "markdown",
   "metadata": {},
   "source": [
    "Podemos visualizar o circuito `circuit`utilizando a função `draw()` da classe `QuantumCircuit`. Um circuito é lido da esquerda para direita. No circuito abaixo o operador $H$ é aplicado para em seguida realizarmos uma medição."
   ]
  },
  {
   "cell_type": "code",
   "execution_count": 7,
   "metadata": {},
   "outputs": [
    {
     "data": {
      "text/html": [
       "<pre style=\"word-wrap: normal;white-space: pre;line-height: 15px;\">        ┌───┐┌─┐\n",
       "q_0: |0>┤ H ├┤M├\n",
       "        └───┘└╥┘\n",
       " c_0: 0 ══════╩═\n",
       "                </pre>"
      ],
      "text/plain": [
       "<qiskit.visualization.text.TextDrawing at 0x12065c390>"
      ]
     },
     "execution_count": 7,
     "metadata": {},
     "output_type": "execute_result"
    }
   ],
   "source": [
    "circuit.draw()\n"
   ]
  },
  {
   "cell_type": "markdown",
   "metadata": {},
   "source": [
    "Para executar um circuito quântico devemos utilizar o módulo `BasicAer`. A função `BasicAer.get_backend` permite selecionar onde o circuito será executado e a função `qiskit.execute` para executar o circuito.\n"
   ]
  },
  {
   "cell_type": "code",
   "execution_count": 8,
   "metadata": {},
   "outputs": [],
   "source": [
    "from qiskit import BasicAer\n",
    "backend = BasicAer.get_backend('qasm_simulator')\n",
    "job = qiskit.execute(circuit, backend, shots=1024)"
   ]
  },
  {
   "cell_type": "code",
   "execution_count": 9,
   "metadata": {},
   "outputs": [
    {
     "name": "stdout",
     "output_type": "stream",
     "text": [
      "{'0': 489, '1': 535}\n"
     ]
    }
   ],
   "source": [
    "result = job.result()\n",
    "counts = result.get_counts(circuit)\n",
    "print(counts)"
   ]
  },
  {
   "cell_type": "markdown",
   "metadata": {},
   "source": [
    "## Executando o circuito em um processador quântico\n",
    "\n",
    "A IBM disponibiliza protótipos de processadores quânticos com 5 qbits (ibmq_5_yorktown - ibmqx2 e ibmq_5_tenerife - ibmqx4) e com 14 qbits (ibmq_16_melbourne). Para acessar estes computadores é necessário criar uma conta em https://quantum-computing.ibm.com/login.\n",
    "\n",
    "Após criar uma conta é necessário acessar perfil $\\rightarrow$ my account $\\rightarrow$ copy token. Esse token é pessoal e não deve ser compartilhado. Ao executar a célula abaixo informe seu token quando solicitado para registrar este notebook."
   ]
  },
  {
   "cell_type": "code",
   "execution_count": 10,
   "metadata": {},
   "outputs": [
    {
     "data": {
      "text/plain": [
       "[]"
      ]
     },
     "execution_count": 10,
     "metadata": {},
     "output_type": "execute_result"
    }
   ],
   "source": [
    "from qiskit import IBMQ \n",
    "import getpass\n",
    "\n",
    "IBMQ.backends()"
   ]
  },
  {
   "cell_type": "code",
   "execution_count": 11,
   "metadata": {},
   "outputs": [
    {
     "name": "stdout",
     "output_type": "stream",
     "text": [
      "Informe seu API_TOKEN: ········\n"
     ]
    }
   ],
   "source": [
    "MY_API_TOKEN = getpass.getpass(\"Informe seu API_TOKEN: \")"
   ]
  },
  {
   "cell_type": "code",
   "execution_count": 12,
   "metadata": {},
   "outputs": [
    {
     "data": {
      "text/plain": [
       "[<IBMQBackend('ibmqx4') from IBMQ()>,\n",
       " <IBMQBackend('ibmqx2') from IBMQ()>,\n",
       " <IBMQBackend('ibmq_16_melbourne') from IBMQ()>,\n",
       " <IBMQSimulator('ibmq_qasm_simulator') from IBMQ()>]"
      ]
     },
     "execution_count": 12,
     "metadata": {},
     "output_type": "execute_result"
    }
   ],
   "source": [
    "IBMQ.enable_account(MY_API_TOKEN)\n",
    "IBMQ.backends()"
   ]
  },
  {
   "cell_type": "code",
   "execution_count": 13,
   "metadata": {},
   "outputs": [
    {
     "data": {
      "text/plain": [
       "[<IBMQBackend('ibmqx4') from IBMQ()>,\n",
       " <IBMQSimulator('ibmq_qasm_simulator') from IBMQ()>]"
      ]
     },
     "execution_count": 13,
     "metadata": {},
     "output_type": "execute_result"
    }
   ],
   "source": [
    "IBMQ.backends(operational=True)"
   ]
  },
  {
   "cell_type": "code",
   "execution_count": 14,
   "metadata": {},
   "outputs": [
    {
     "name": "stdout",
     "output_type": "stream",
     "text": [
      "{'0': 583, '1': 441}\n"
     ]
    }
   ],
   "source": [
    "qbackend = IBMQ.get_backend('ibmqx4')\n",
    "qjob = qiskit.execute(circuit, qbackend, shots=1024)\n",
    "qresult = qjob.result()\n",
    "qcounts = qresult.get_counts(circuit)\n",
    "print(qcounts)"
   ]
  },
  {
   "cell_type": "markdown",
   "metadata": {},
   "source": [
    "## Exercícios\n",
    "\n",
    "1. Quantos bits podem ser armazenados em um qbit?\n",
    "1. Verifique que o operador $H$ é unitário.\n",
    "1. Verifique que $H^2 = I$\n",
    "1. Quais são os autovalores e autovetores de $H$?\n",
    "1. Determine o estado do qbit $|\\psi\\rangle = ZHX|0\\rangle$. Verifique a probabilidade de obtermos 0 ou 1 ao realizar a medição do qbit e simule as operações utilizando o qiskit para verificar sua estimativa.\n",
    "\n",
    "1. Implemente um circuito quântico que crie a partir do $|0\\rangle$ o estado $\\frac{1}{\\sqrt{7}}|0\\rangle - \\frac{\\sqrt{6}}{\\sqrt{7}}|1\\rangle$\n",
    "\n",
    "1. Utilizando o numpy, mostre que $HXH = Z$, $HYH = -Y$ e $HZH=X$"
   ]
  },
  {
   "cell_type": "code",
   "execution_count": null,
   "metadata": {},
   "outputs": [],
   "source": []
  }
 ],
 "metadata": {
  "kernelspec": {
   "display_name": "Python 3",
   "language": "python",
   "name": "python3"
  },
  "language_info": {
   "codemirror_mode": {
    "name": "ipython",
    "version": 3
   },
   "file_extension": ".py",
   "mimetype": "text/x-python",
   "name": "python",
   "nbconvert_exporter": "python",
   "pygments_lexer": "ipython3",
   "version": "3.6.7"
  }
 },
 "nbformat": 4,
 "nbformat_minor": 2
}
