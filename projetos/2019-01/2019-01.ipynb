{
 "cells": [
  {
   "cell_type": "markdown",
   "metadata": {},
   "source": [
    "# Classificação com Redes Neurais Quânticas: Teoria e Prática$\\newcommand{\\ket}[1]{\\left|{#1}\\right\\rangle} \\newcommand{\\bra}[1]{\\left\\langle{#1}\\right|} \\newcommand{\\braket}[2]{\\left\\langle{#1}\\middle|{#2}\\right\\rangle}$"
   ]
  },
  {
   "cell_type": "markdown",
   "metadata": {},
   "source": [
    "## Introdução\n",
    "Apresentar as justificativas e o propósito deste trabalho (não deve ser muito longo).\n",
    "\n",
    "Explicar sua estrutura.\n",
    "\n",
    "Indicar os objetivos desejados e os alcançados (spoilers)."
   ]
  },
  {
   "cell_type": "markdown",
   "metadata": {},
   "source": [
    "## Codificação de Dados\n",
    "Explicar como o estado inicial pode representar o dado a ser classificado.\n",
    "\n",
    "Avaliar se é conveniente incluir outros tipos de codificação além de qubit encoding, como, por exemplo, oráculo, amplitude encoding ou dados quânticos.\n",
    "\n",
    "$z=z_1 z_2 \\dotsb z_n$"
   ]
  },
  {
   "cell_type": "markdown",
   "metadata": {},
   "source": [
    "## Arquitetura de Circuitos\n",
    "\n",
    "O estado de entrada é preparado e então tranformado através de uma sequência de operações unitárias que dependem de um parâmetro (real ou complexo?).\n",
    "\n",
    "O circuito é composto por n+1 qubits - ignorando possíveis ancillas. O último qubit será utilizado para medição e leitura da saída.\n",
    "\n",
    "$\\{ U_a(\\theta) \\}$\n",
    "\n",
    "$U(\\vec{\\theta})=U_L(\\theta_L)U_{L-1}(\\theta_{L-1}) \\dotsb U_1(\\theta_1)$\n",
    "\n",
    "$\\ket{z,1}=\\ket{z_1 z_2 \\dotsb z_n,1}$\n",
    "\n",
    "$U(\\vec{\\theta})\\ket{z,1}$\n"
   ]
  },
  {
   "cell_type": "markdown",
   "metadata": {},
   "source": [
    "## Parametrização\n",
    "\n",
    "Citar os três tipos de parametrização"
   ]
  },
  {
   "cell_type": "markdown",
   "metadata": {},
   "source": [
    "## Representação\n",
    " \n",
    "Demonstração de que a rede neural quântica é capaz de expressar qualquer função de rótulo com dois valores.\n",
    "\n",
    "Abaixo estão algumas equações que serão usadas nesta seção.\n",
    "\n",
    "$$\n",
    "U_l \\ket{z, z_{n+1}} = e^{i \\frac{\\pi}{4} l(z) X_{n+1}} \\ket{z,z_{n+1}}\n",
    "$$\n",
    "\n",
    "$$\n",
    "\\begin{align}\n",
    "U_l^\\dagger Y_{n+1} U_l\n",
    "&= \\left( e^{-i \\frac{\\pi}{4} l(z) X_{n+1}} \\right) Y_{n+1} \\left( e^{i \\frac{\\pi}{4} l(z) X_{n+1}} \\right) \\\\\n",
    "&= \\left[ cos \\left(\\frac{\\pi}{4}l(Z) \\right)I - i sen \\left(\\frac{\\pi}{4}l(Z) \\right)X_{n+1} \\right] Y_{n+1} \\left[ cos \\left(\\frac{\\pi}{4}l(Z) \\right)I + i sen \\left(\\frac{\\pi}{4}l(Z) \\right)X_{n+1} \\right] \\\\\n",
    "&= cos \\left(\\frac{\\pi}{2}l(Z) \\right)Y_{n+1} + sen \\left(\\frac{\\pi}{2}l(Z) \\right)Z_{n+1}\n",
    "\\end{align}\n",
    "$$\n",
    "\n",
    "$$\n",
    "\\begin{align}\n",
    "\\bra{z,1} U_l^\\dagger Y_{n+1} U_l \\ket{z,1} \n",
    "&= cos \\left(\\frac{\\pi}{2}l(Z) \\right)\\bra{z,1}Y_{n+1}\\ket{z,1} + sen \\left(\\frac{\\pi}{2}l(Z) \\right) \\bra{z,1}Z_{n+1}\\ket{z,1} \\\\\n",
    "&= sen \\left(\\frac{\\pi}{2}l(Z) \\right) \\bra{z,1}Z_{n+1}\\ket{z,1} \\\\\n",
    "&= l(z)\n",
    "\\end{align}\n",
    "$$\n",
    "\n",
    "$$\n",
    "\\begin{align}\n",
    "U_l \n",
    "&=e^{i \\frac{\\pi}{4}l(z)X_{n+1}} \\\\\n",
    "&=e^{i \\frac{\\pi}{4}(1-2B)X_{n+1}} \\\\\n",
    "&=e^{i \\frac{\\pi}{4}X_{n+1}}e^{-i \\frac{\\pi}{2} B X_{n+1}}\n",
    "\\end{align}\n",
    "$$\n"
   ]
  },
  {
   "cell_type": "markdown",
   "metadata": {},
   "source": [
    "## Aprendizado\n",
    "\n",
    "$loss(\\vec{\\theta}, z)=1-l(z)M_\\theta(\\ket{z,1})$\n",
    "\n",
    "$loss(\\vec{\\theta}, z)=\\frac{1}{D} \\sum_{d=1}^{D} (M_\\theta(\\ket{z,1}^d) - l(z)^d)^2$\n",
    "\n",
    "$M_\\theta(\\ket{z,1}) = \\bra{z,1} U^\\dagger(\\vec{\\theta}) Y_{n+1} U(\\vec{\\theta}) \\ket{z,1}$\n",
    "\n",
    "### Stochastic Gradient Descent Algorithm\n",
    "#### Variar um componente do gradiente por vez\n",
    "\n",
    "$\\vec{\\theta^{(t+1)}} \\leftarrow{} \\vec{\\theta^{(t)}} + \\eta^{(t)} \\nabla loss^{(t)}$\n",
    "\n",
    "$\\frac{df}{dx}(x) = \\left( f(x+\\epsilon)-f(x-\\epsilon) \\right) / (2\\epsilon) + O(\\epsilon^2)$\n",
    "\n",
    "#### Estimar quânticamente\n",
    "\n",
    "$\\frac{d loss(\\vec{\\theta},z))}{d\\theta_k} = 2Im\\left( \\bra{z,1} U^\\dagger_1 \\dotsb U^\\dagger_L Y_{n+1} U_L \\dotsb U_{k+1} \\Sigma_k U_k \\dotsb U_1 \\ket{z,1} \\right)$\n",
    "\n",
    "$u(\\vec(\\theta)) = U^\\dagger_1 \\dotsb U^\\dagger_L Y_{n+1} U_L \\dotsb U_{k+1} \\Sigma_k U_k \\dotsb U_1 $\n",
    "\n",
    "$\\frac{d loss(\\vec{\\theta},z))}{d\\theta_k} = 2Im\\left( \\bra{z,1} u \\ket{z,1} \\right)$\n",
    "\n",
    "\n",
    "### Adaptative Moment Estimation (ADAM)\n",
    "\n",
    "Resumo curto.\n",
    "\n",
    "Foi utilizado no artigo \"Hierarchical quantum classifiers\""
   ]
  },
  {
   "cell_type": "markdown",
   "metadata": {},
   "source": [
    "## Prática: TTN\n",
    "### Clássico\n",
    "Resumo curto sobre TTN (Tree Tensor Network)\n",
    "### Quântico\n",
    "Versão quântica da TTN\n",
    "### Qiskit\n",
    "Implementação utilizando Python e Qiskit\n",
    "\n",
    "https://scikit-learn.org/stable/auto_examples/datasets/plot_iris_dataset.html\n",
    "\n",
    "https://scikit-learn.org/0.19/datasets/mldata.html\n",
    "\n",
    "https://scikit-learn.org/stable/modules/classes.html#module-sklearn.datasets"
   ]
  },
  {
   "cell_type": "markdown",
   "metadata": {},
   "source": [
    "## Prática: MERA\n",
    "Fazer MERA apenas se houver tempo.\n",
    "### Clássico\n",
    "Resumo curto sobre TTN (Multi-scale Entanglement Renormalization Ansatz)\n",
    "### Quântico\n",
    "Versão quântica da MERA\n",
    "### Qiskit\n",
    "Implementação utilizando Python e Qiskit"
   ]
  },
  {
   "cell_type": "markdown",
   "metadata": {},
   "source": [
    "## Conclusões e Comentários"
   ]
  },
  {
   "cell_type": "code",
   "execution_count": null,
   "metadata": {},
   "outputs": [],
   "source": []
  }
 ],
 "metadata": {
  "kernelspec": {
   "display_name": "Python 3",
   "language": "python",
   "name": "python3"
  },
  "language_info": {
   "codemirror_mode": {
    "name": "ipython",
    "version": 3
   },
   "file_extension": ".py",
   "mimetype": "text/x-python",
   "name": "python",
   "nbconvert_exporter": "python",
   "pygments_lexer": "ipython3",
   "version": "3.7.3"
  }
 },
 "nbformat": 4,
 "nbformat_minor": 2
}
